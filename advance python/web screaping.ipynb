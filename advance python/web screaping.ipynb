{
 "cells": [
  {
   "cell_type": "code",
   "execution_count": 4,
   "metadata": {},
   "outputs": [
    {
     "name": "stdout",
     "output_type": "stream",
     "text": [
      "Requirement already satisfied: requests in c:\\users\\omkar\\onedrive\\desktop\\thu-friday\\repository\\venv\\lib\\site-packages (2.32.3)\n",
      "Requirement already satisfied: bs4 in c:\\users\\omkar\\onedrive\\desktop\\thu-friday\\repository\\venv\\lib\\site-packages (0.0.2)\n",
      "Collecting lxml\n",
      "  Downloading lxml-5.2.2-cp311-cp311-win_amd64.whl.metadata (3.5 kB)\n",
      "Requirement already satisfied: charset-normalizer<4,>=2 in c:\\users\\omkar\\onedrive\\desktop\\thu-friday\\repository\\venv\\lib\\site-packages (from requests) (3.3.2)\n",
      "Requirement already satisfied: idna<4,>=2.5 in c:\\users\\omkar\\onedrive\\desktop\\thu-friday\\repository\\venv\\lib\\site-packages (from requests) (3.7)\n",
      "Requirement already satisfied: urllib3<3,>=1.21.1 in c:\\users\\omkar\\onedrive\\desktop\\thu-friday\\repository\\venv\\lib\\site-packages (from requests) (2.2.2)\n",
      "Requirement already satisfied: certifi>=2017.4.17 in c:\\users\\omkar\\onedrive\\desktop\\thu-friday\\repository\\venv\\lib\\site-packages (from requests) (2024.7.4)\n",
      "Requirement already satisfied: beautifulsoup4 in c:\\users\\omkar\\onedrive\\desktop\\thu-friday\\repository\\venv\\lib\\site-packages (from bs4) (4.12.3)\n",
      "Requirement already satisfied: soupsieve>1.2 in c:\\users\\omkar\\onedrive\\desktop\\thu-friday\\repository\\venv\\lib\\site-packages (from beautifulsoup4->bs4) (2.5)\n",
      "Downloading lxml-5.2.2-cp311-cp311-win_amd64.whl (3.8 MB)\n",
      "   ---------------------------------------- 0.0/3.8 MB ? eta -:--:--\n",
      "   ---- ----------------------------------- 0.4/3.8 MB 12.9 MB/s eta 0:00:01\n",
      "   ---------- ----------------------------- 1.0/3.8 MB 13.0 MB/s eta 0:00:01\n",
      "   ------------------ --------------------- 1.8/3.8 MB 14.0 MB/s eta 0:00:01\n",
      "   ---------------------- ----------------- 2.1/3.8 MB 13.6 MB/s eta 0:00:01\n",
      "   ------------------------------ --------- 2.9/3.8 MB 14.1 MB/s eta 0:00:01\n",
      "   -------------------------------------- - 3.7/3.8 MB 14.7 MB/s eta 0:00:01\n",
      "   ---------------------------------------- 3.8/3.8 MB 12.8 MB/s eta 0:00:00\n",
      "Installing collected packages: lxml\n",
      "Successfully installed lxml-5.2.2\n",
      "Note: you may need to restart the kernel to use updated packages.\n"
     ]
    },
    {
     "name": "stderr",
     "output_type": "stream",
     "text": [
      "\n",
      "[notice] A new release of pip is available: 24.1.1 -> 24.2\n",
      "[notice] To update, run: python.exe -m pip install --upgrade pip\n"
     ]
    }
   ],
   "source": [
    "%pip install requests bs4 lxml"
   ]
  },
  {
   "cell_type": "code",
   "execution_count": null,
   "metadata": {},
   "outputs": [],
   "source": []
  }
 ],
 "metadata": {
  "kernelspec": {
   "display_name": "venv",
   "language": "python",
   "name": "python3"
  },
  "language_info": {
   "codemirror_mode": {
    "name": "ipython",
    "version": 3
   },
   "file_extension": ".py",
   "mimetype": "text/x-python",
   "name": "python",
   "nbconvert_exporter": "python",
   "pygments_lexer": "ipython3",
   "version": "3.11.5"
  }
 },
 "nbformat": 4,
 "nbformat_minor": 2
}
