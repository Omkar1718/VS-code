{
 "cells": [
  {
   "cell_type": "code",
   "execution_count": 4,
   "metadata": {},
   "outputs": [],
   "source": [
    "class Person :\n",
    "    def __init__(self,name,age,gender,occupation):\n",
    "        self.name = name\n",
    "        self.age = age\n",
    "        self.gender = gender\n",
    "        self.occupation = occupation\n",
    "\n",
    "    def introduce(self):\n",
    "        print(f'My name is {self.name}')\n",
    "        print(f'I am {self.age} years old')\n",
    "        print(f'I am a {self.gender}')\n",
    "        print(f'I work as a {self.occupation}')"
   ]
  },
  {
   "cell_type": "code",
   "execution_count": 5,
   "metadata": {},
   "outputs": [],
   "source": [
    "p1 = Person(\"Om\",21,\"Male\",'Engineer')"
   ]
  },
  {
   "cell_type": "code",
   "execution_count": 6,
   "metadata": {},
   "outputs": [
    {
     "data": {
      "text/plain": [
       "<__main__.Person at 0x1f2706daed0>"
      ]
     },
     "execution_count": 6,
     "metadata": {},
     "output_type": "execute_result"
    }
   ],
   "source": [
    "p1"
   ]
  },
  {
   "cell_type": "code",
   "execution_count": 7,
   "metadata": {},
   "outputs": [
    {
     "data": {
      "text/plain": [
       "'Om'"
      ]
     },
     "execution_count": 7,
     "metadata": {},
     "output_type": "execute_result"
    }
   ],
   "source": [
    "p1.name"
   ]
  },
  {
   "cell_type": "code",
   "execution_count": 8,
   "metadata": {},
   "outputs": [
    {
     "name": "stdout",
     "output_type": "stream",
     "text": [
      "My name is Om\n",
      "I am 21 years old\n",
      "I am a Male\n",
      "I work as a Engineer\n"
     ]
    }
   ],
   "source": [
    "p1.introduce()"
   ]
  },
  {
   "cell_type": "code",
   "execution_count": 9,
   "metadata": {},
   "outputs": [
    {
     "name": "stdout",
     "output_type": "stream",
     "text": [
      "My name is Om\n",
      "I am 21 years old\n",
      "I am a Male\n",
      "I work as a Engineer\n"
     ]
    }
   ],
   "source": [
    "for i in [p1]:\n",
    "    i.introduce()"
   ]
  },
  {
   "cell_type": "code",
   "execution_count": 12,
   "metadata": {},
   "outputs": [],
   "source": [
    "class account :\n",
    "    def __init__(self,ac_no,name,bal=0) :\n",
    "        self.ac_no = ac_no\n",
    "        self.name = name\n",
    "        self.bal = bal\n",
    "\n",
    "    def current_balance(self):\n",
    "        print(f\"Current_balance is : {self.bal} INR\")\n",
    "    def deposit(self,amt):\n",
    "        self.bal=self.bal + amt\n",
    "        print(f\"Amount of {amt} INR got deposited in account : {self.ac_no}\")\n",
    "        self.current_balance()\n",
    "    def withdraw(self,amt):\n",
    "        if amt<=self.bal:\n",
    "            self.bal=self.bal - amt \n",
    "            print(f\"Amount of {amt} INR got withdraw account : {self.ac_no}\")\n",
    "        else:\n",
    "            print(\"Insufficient balance for Withdrawal\")\n",
    "        self.current_balance()\n",
    "    def transfer(self,ac2,amt):\n",
    "        if amt<=self.bal:\n",
    "            self.bal=self.bal - amt\n",
    "            ac2.bal = ac2,bal + amt\n",
    "            print(f\"Amount of {amt} INR got transferred from {self.ac_no} to {amt}\")\n",
    "        else:\n",
    "            print(\"Insufficient balance for Transfer\")\n",
    "        self.current_balance()\n",
    "        \n"
   ]
  },
  {
   "cell_type": "code",
   "execution_count": 13,
   "metadata": {},
   "outputs": [
    {
     "name": "stdout",
     "output_type": "stream",
     "text": [
      "<__main__.account object at 0x000001F270684790>\n"
     ]
    }
   ],
   "source": [
    "ac1 = account(1452, \"Santosh\",5000)\n",
    "print(ac1)"
   ]
  },
  {
   "cell_type": "code",
   "execution_count": 15,
   "metadata": {},
   "outputs": [
    {
     "data": {
      "text/plain": [
       "'Santosh'"
      ]
     },
     "execution_count": 15,
     "metadata": {},
     "output_type": "execute_result"
    }
   ],
   "source": [
    "ac1.name"
   ]
  },
  {
   "cell_type": "code",
   "execution_count": 16,
   "metadata": {},
   "outputs": [
    {
     "name": "stdout",
     "output_type": "stream",
     "text": [
      "Current_balance is : 5000 INR\n"
     ]
    }
   ],
   "source": [
    "ac1.current_balance()"
   ]
  },
  {
   "cell_type": "code",
   "execution_count": 17,
   "metadata": {},
   "outputs": [
    {
     "name": "stdout",
     "output_type": "stream",
     "text": [
      "Amount of 3000 INR got deposited in account : 1452\n",
      "Current_balance is : 8000 INR\n"
     ]
    }
   ],
   "source": [
    "ac1.deposit(3000)"
   ]
  },
  {
   "cell_type": "code",
   "execution_count": 18,
   "metadata": {},
   "outputs": [
    {
     "data": {
      "text/plain": [
       "8000"
      ]
     },
     "execution_count": 18,
     "metadata": {},
     "output_type": "execute_result"
    }
   ],
   "source": [
    "ac1.bal"
   ]
  },
  {
   "cell_type": "code",
   "execution_count": 19,
   "metadata": {},
   "outputs": [
    {
     "name": "stdout",
     "output_type": "stream",
     "text": [
      "Amount of 7000 INR got withdraw account : 1452\n",
      "Current_balance is : 1000 INR\n"
     ]
    }
   ],
   "source": [
    "ac1.withdraw(7000)"
   ]
  },
  {
   "cell_type": "code",
   "execution_count": 20,
   "metadata": {},
   "outputs": [
    {
     "data": {
      "text/plain": [
       "1000"
      ]
     },
     "execution_count": 20,
     "metadata": {},
     "output_type": "execute_result"
    }
   ],
   "source": [
    "ac1.bal"
   ]
  },
  {
   "cell_type": "code",
   "execution_count": null,
   "metadata": {},
   "outputs": [],
   "source": []
  }
 ],
 "metadata": {
  "kernelspec": {
   "display_name": "venv",
   "language": "python",
   "name": "python3"
  },
  "language_info": {
   "codemirror_mode": {
    "name": "ipython",
    "version": 3
   },
   "file_extension": ".py",
   "mimetype": "text/x-python",
   "name": "python",
   "nbconvert_exporter": "python",
   "pygments_lexer": "ipython3",
   "version": "3.11.5"
  }
 },
 "nbformat": 4,
 "nbformat_minor": 2
}
